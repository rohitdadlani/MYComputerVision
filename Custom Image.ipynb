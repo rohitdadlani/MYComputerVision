{
 "cells": [
  {
   "cell_type": "code",
   "execution_count": 9,
   "metadata": {},
   "outputs": [],
   "source": [
    "import numpy as np"
   ]
  },
  {
   "cell_type": "code",
   "execution_count": 10,
   "metadata": {},
   "outputs": [],
   "source": [
    "import cv2"
   ]
  },
  {
   "cell_type": "code",
   "execution_count": 11,
   "metadata": {},
   "outputs": [],
   "source": [
    "photo = np.zeros((1000,1000,3))"
   ]
  },
  {
   "cell_type": "code",
   "execution_count": 13,
   "metadata": {},
   "outputs": [
    {
     "data": {
      "text/plain": [
       "(1000, 1000, 3)"
      ]
     },
     "execution_count": 13,
     "metadata": {},
     "output_type": "execute_result"
    }
   ],
   "source": [
    "photo.shape"
   ]
  },
  {
   "cell_type": "code",
   "execution_count": 5,
   "metadata": {},
   "outputs": [],
   "source": []
  },
  {
   "cell_type": "code",
   "execution_count": 33,
   "metadata": {},
   "outputs": [],
   "source": [
    "photo[50:250,400:600]=[0,255,0]           #Face\n",
    "photo[100:110,460:470]=[0,0,255]          #Eye\n",
    "photo[100:110,520:530]=[0,0,255]          #Eye\n",
    "photo[140:180,495:505]=[0,0,255]          #Nose\n",
    "photo[210:220,480:520]=[0,0,255]          #Mouth\n",
    "photo[250:350,480:520]=[0,255,0]          #Neck\n",
    "photo[350:650,350:650]=[0,255,0]          #Lower Body\n",
    "photo[430:470,300:350]=[0,255,0]          #Hands\n",
    "photo[430:470,650:700]=[0,255,0]          #Hands\n",
    "photo[430:730,260:300]=[0,255,0]          #Hands\n",
    "photo[430:730,700:740]=[0,255,0]          #Hands\n",
    "photo[650:850,430:470]=[0,255,0]          #Legs\n",
    "photo[650:850,530:570]=[0,255,0]          #Legs"
   ]
  },
  {
   "cell_type": "code",
   "execution_count": null,
   "metadata": {},
   "outputs": [],
   "source": [
    "cv2.imshow(\"photo\",photo)\n",
    "cv2.waitKey()\n",
    "cv2.destroyAllWindows()"
   ]
  },
  {
   "cell_type": "code",
   "execution_count": null,
   "metadata": {},
   "outputs": [],
   "source": []
  }
 ],
 "metadata": {
  "kernelspec": {
   "display_name": "Python 3",
   "language": "python",
   "name": "python3"
  },
  "language_info": {
   "codemirror_mode": {
    "name": "ipython",
    "version": 3
   },
   "file_extension": ".py",
   "mimetype": "text/x-python",
   "name": "python",
   "nbconvert_exporter": "python",
   "pygments_lexer": "ipython3",
   "version": "3.7.4"
  }
 },
 "nbformat": 4,
 "nbformat_minor": 4
}
