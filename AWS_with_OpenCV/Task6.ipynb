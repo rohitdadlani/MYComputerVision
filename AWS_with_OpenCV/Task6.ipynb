{
 "cells": [
  {
   "cell_type": "markdown",
   "metadata": {},
   "source": [
    "aws ec2 run-instances --image-id ami-0ad704c126371a549 --count 1 --instance-type t2.micro --key-name key1515 --subnet-id subnet-a57e77cd --security-group-ids sg-06d0d25f67a37e254"
   ]
  },
  {
   "cell_type": "code",
   "execution_count": null,
   "metadata": {},
   "outputs": [],
   "source": []
  },
  {
   "cell_type": "code",
   "execution_count": 11,
   "metadata": {},
   "outputs": [],
   "source": [
    "def mail():\n",
    "    import smtplib\n",
    "    sender_email = \"rohitdadlani23112000@gmail.com\"\n",
    "    receiver_email = \"dadlani.rohit.23@gmail.com\"\n",
    "    password = (\"Rohit@2311\")\n",
    "    message = \"Hello this was sent by using Python\"\n",
    "\n",
    "    server = smtplib.SMTP('smtp.gmail.com', 587)\n",
    "    server.starttls()\n",
    "    server.login(sender_email,password)\n",
    "    print(\"Login Success\")\n",
    "    server.sendmail(sender_email,receiver_email,message)\n",
    "    print(\"Email has been seen to \", receiver_email)\n",
    "\n",
    "def whatsapp():\n",
    "    import pywhatkit as w\n",
    "    w.sendwhatmsg(\"+919687420878\", \" this is a generated msg\",9,26)\n",
    "    print(\"Whatsapp message has been sent\")\n",
    "\n",
    "def launch_ec2():\n",
    "    import os\n",
    "    os.system(\"aws ec2 run-instances --image-id ami-0ad704c126371a549 --count 1 --instance-type t2.micro --key-name key1515 --subnet-id subnet-a57e77cd --security-group-ids sg-06d0d25f67a37e254\")\n",
    "\n",
    "def creating_EBS_volume():\n",
    "    import os\n",
    "    import time\n",
    "    os.system(\"aws ec2 create-volume --volume-type volume type --size 1 --availability-zone Zone\")\n",
    "    time.sleep(60)\n",
    "    os.system(\"aws ec2 attach-volume --instance-id Instance id --volume-id Volume id --device /dev/sdp  \")"
   ]
  },
  {
   "cell_type": "code",
   "execution_count": 12,
   "metadata": {},
   "outputs": [],
   "source": [
    "import cv2\n",
    "#for face recognition\n",
    "import time\n",
    "#imported time module for using sleep function for the functions to run smoothly\n",
    "import os"
   ]
  },
  {
   "cell_type": "code",
   "execution_count": 13,
   "metadata": {},
   "outputs": [],
   "source": [
    "model=cv2.CascadeClassifier('haarcascade_frontalface_default.xml')"
   ]
  },
  {
   "cell_type": "code",
   "execution_count": null,
   "metadata": {},
   "outputs": [],
   "source": []
  },
  {
   "cell_type": "code",
   "execution_count": 14,
   "metadata": {},
   "outputs": [
    {
     "name": "stdout",
     "output_type": "stream",
     "text": [
      "No of faces found :  3\n"
     ]
    }
   ],
   "source": [
    "cap = cv2.VideoCapture(0)\n",
    "while True:\n",
    "    ret,photo = cap.read()\n",
    "    faces = model.detectMultiScale(photo)\n",
    "    if len(faces) != 0:\n",
    "        for i in faces:\n",
    "            x1 = i[0]\n",
    "            y1 = i[1]\n",
    "            x2 = x1 + i[2]\n",
    "            y2 = y1 + i[3]\n",
    "        aphoto = cv2.rectangle(photo , (x1,y1) , (x2,y2) , [0,255,0] , 5)\n",
    "        cv2.imshow(\"hi\",aphoto)\n",
    "        #automatically breaks the loop when it detects 2 faces \n",
    "        if (len(faces)) >= 2:\n",
    "            break\n",
    "        #when we press enter key it will break the loop\n",
    "        if cv2.waitKey(1) == 13:\n",
    "            break\n",
    "            \n",
    "cv2.destroyAllWindows()\n",
    "cap.release()\n",
    "#when detects 1 face \n",
    "if len(faces) == 1:\n",
    "    #automatically mail to the given mail address.\n",
    "    #mail()\n",
    "    #wait for 20 sec\n",
    "    #time.sleep(20)\n",
    "    #automatically send whatsapp message to the given whatsapp no\n",
    "    whatsapp()\n",
    "    print (\"No of faces found : \",(len(faces)))\n",
    "#when detects 2 faces \n",
    "elif len(faces) >= 2:\n",
    "    #automatically launch ec2 instance \n",
    "    launch_ec2()\n",
    "    #wait for 20 sec\n",
    "    time.sleep(20)\n",
    "    #automatically create a EBS volume of 5GB\n",
    "    creating_EBS_volume()\n",
    "    print (\"No of faces found : \", (len(faces)))"
   ]
  },
  {
   "cell_type": "code",
   "execution_count": null,
   "metadata": {},
   "outputs": [],
   "source": []
  },
  {
   "cell_type": "code",
   "execution_count": null,
   "metadata": {},
   "outputs": [],
   "source": []
  }
 ],
 "metadata": {
  "kernelspec": {
   "display_name": "Python 3",
   "language": "python",
   "name": "python3"
  },
  "language_info": {
   "codemirror_mode": {
    "name": "ipython",
    "version": 3
   },
   "file_extension": ".py",
   "mimetype": "text/x-python",
   "name": "python",
   "nbconvert_exporter": "python",
   "pygments_lexer": "ipython3",
   "version": "3.8.5"
  }
 },
 "nbformat": 4,
 "nbformat_minor": 4
}
